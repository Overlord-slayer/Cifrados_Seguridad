{
 "cells": [
  {
   "cell_type": "code",
   "execution_count": 1,
   "id": "e192ce8d-7fb5-4ae7-8778-751af4cf5692",
   "metadata": {},
   "outputs": [],
   "source": [
    "import matplotlib.pyplot as plt\n",
    "from clean_string import clean_string"
   ]
  },
  {
   "cell_type": "code",
   "execution_count": 14,
   "id": "904b08fb-59d0-47a7-9c82-3f83ec08b641",
   "metadata": {},
   "outputs": [],
   "source": [
    "def characters_frequency(cadena: str):\n",
    "    \"\"\"\n",
    "    Cuenta la frecuencia de cada carácter en una cadena.\n",
    "\n",
    "    Args:\n",
    "        cadena (str): La cadena de la cual se contarán los caracteres.\n",
    "\n",
    "    Returns:\n",
    "        dict: Un diccionario donde las claves son los caracteres y los valores son sus frecuencias.\n",
    "    \"\"\"\n",
    "    # Diccionario para almacenar la frecuencia de cada carácter\n",
    "    frequency = {}\n",
    "\n",
    "    # Iterar sobre cada carácter en la cadena\n",
    "    for char in cadena:\n",
    "        # Si el carácter ya está en el diccionario, incrementar su contador\n",
    "        if char in frequency:\n",
    "            frequency[char] += 1\n",
    "        # Si no está en el diccionario, agregarlo con un contador de 1\n",
    "        else:\n",
    "            frequency[char] = 1\n",
    "\n",
    "    return frequency"
   ]
  },
  {
   "cell_type": "code",
   "execution_count": 16,
   "id": "26b1263e-5293-496f-b362-97bc69be2b1b",
   "metadata": {},
   "outputs": [],
   "source": [
    "def graph(frequency: dict):\n",
    "    \"\"\"\n",
    "    Genera un gráfico de barras que muestra la frecuencia de caracteres.\n",
    "    \n",
    "    Args:\n",
    "        frequency (dict): Un diccionario donde las claves son caracteres (str) y los valores\n",
    "                          son las frecuencias (int) de aparición de cada carácter.\n",
    "    \n",
    "    Returns:\n",
    "        None: La función no retorna ningún valor, pero muestra un gráfico de barras.\n",
    "    \n",
    "    Example:\n",
    "        >>> frequency = {'a': 10, 'b': 5, 'c': 3}\n",
    "        >>> graph(frequency)\n",
    "        # Muestra un gráfico de barras con los caracteres 'a', 'b', 'c' y sus frecuencias.\n",
    "    \"\"\"\n",
    "    letras = list(frequency.keys())\n",
    "    frecuencias = list(frequency.values())\n",
    "    plt.bar(letras, frecuencias)\n",
    "    plt.title(\"Frecuencia de caracteres\")\n",
    "    plt.xlabel(\"Caracteres\")\n",
    "    plt.ylabel(\"Apariciones\")\n",
    "    plt.show()"
   ]
  },
  {
   "cell_type": "code",
   "execution_count": 17,
   "id": "76190fa5-ab22-4092-a4de-6aca9c955255",
   "metadata": {},
   "outputs": [
    {
     "name": "stdout",
     "output_type": "stream",
     "text": [
      "Frecuencia de caracteres:\n",
      "'h': 1\n",
      "'o': 1\n",
      "'l': 1\n",
      "'a': 3\n",
      "'p': 2\n"
     ]
    },
    {
     "data": {
      "image/png": "[encoded data removed]",
      "text/plain": [
       "<Figure size 640x480 with 1 Axes>"
      ]
     },
     "metadata": {},
     "output_type": "display_data"
    }
   ],
   "source": [
    "cadena = \"hola papa\"\n",
    "cadena_sin_espacios = clean_string(cadena)\n",
    "result = characters_frequency(cadena_sin_espacios)\n",
    "print(\"Frecuencia de caracteres:\")\n",
    "for char, count in result.items():\n",
    "    print(f\"'{char}': {count}\")\n",
    "graph(result)"
   ]
  },
  {
   "cell_type": "code",
   "execution_count": null,
   "id": "cca724a7-e171-4ffd-9d55-7c042703e417",
   "metadata": {},
   "outputs": [],
   "source": []
  },
  {
   "cell_type": "code",
   "execution_count": null,
   "id": "019b77b2-03fe-4ff9-8b92-7a4f0bd0a946",
   "metadata": {},
   "outputs": [],
   "source": []
  }
 ],
 "metadata": {
  "kernelspec": {
   "display_name": "Python 3 (ipykernel)",
   "language": "python",
   "name": "python3"
  },
  "language_info": {
   "codemirror_mode": {
    "name": "ipython",
    "version": 3
   },
   "file_extension": ".py",
   "mimetype": "text/x-python",
   "name": "python",
   "nbconvert_exporter": "python",
   "pygments_lexer": "ipython3",
   "version": "3.12.3"
  }
 },
 "nbformat": 4,
 "nbformat_minor": 5
}
