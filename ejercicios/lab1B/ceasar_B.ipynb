{
 "cells": [
  {
   "cell_type": "markdown",
   "id": "adfc9942-e191-47e8-aeeb-d5feeb742287",
   "metadata": {},
   "source": [
    "\"\"\"_summary_\n",
    "    \n",
    "    Este codigo sirver para la implementacion del cifrado cesar, se base en la informacion obtenida en el\n",
    "    video colocado.\n",
    "\n",
    "    El cifrado cesar consta de la cadena, y de una clave numerica, que representa la cantidad de corridas para\n",
    "    el texto. En este caso, si es 'a' y es una clave de '3', se corre de 'a' -> 'd', pues se suman esas posiciones\n",
    "    de corrida. Algo a tomar en cuanta, es que no se coloco un limite de corridas, lo cual puede ser en catastrofico,\n",
    "    pero se piensa que si se hace tal cosa, simplemente hara un cifrado segun la cantidad de caracteres del alfabeto.\n",
    "    En este caso, si se coloca 90, el mod de 90 con la cantidad de 27 es 9, con lo cual, la posicion seria j, pues es\n",
    "    la novena letra del alfabeto de Spanish. El corrimiento se inicia desde la siguiente letra a la que se esta cifrando\n",
    "    es decir, si es de 3 el numero clave y la letra/caracter a cifrar es 3, no se cuenta desde la posicion de la 'a',\n",
    "    sino desde 'b', con lo cual, resultaria en 'd' como el valor del cifrado.\n",
    "\n",
    "    Returns:\n",
    "        _type_: _description_\n",
    "\n",
    "        \n",
    "    @see https://youtu.be/4OmhdF89TRE?si=KYAJVfHIXSaBTih8\n",
    "\"\"\""
   ]
  },
  {
   "cell_type": "code",
   "execution_count": 1,
   "id": "17a5fa0c-6d76-4e41-8a38-a6da1505be8e",
   "metadata": {},
   "outputs": [],
   "source": [
    "from clean_string import clean_string\n",
    "import frecuencia_caracteres as fc\n",
    "letras = 'abcdefghijklmnñopqrstuvwxyz'\n"
   ]
  },
  {
   "cell_type": "code",
   "execution_count": 2,
   "id": "4fbd76f9-3699-48f0-a6a1-bbacab710112",
   "metadata": {},
   "outputs": [],
   "source": [
    "def main(contenido:str):\n",
    "    \"\"\"\n",
    "    Función principal que maneja la interacción con el usuario.\n",
    "    Solicita una cadena y una clave numérica, realiza el cifrado y descifrado usando el cifrado César,\n",
    "    y muestra los resultados.\n",
    "    \"\"\"\n",
    "\n",
    "    # cadena = input(\"Ingrese la cadena a cifrar: \").lower()\n",
    "    # numero_clave = int(input(\"Ingrese la clave numerica: \"))\n",
    "    # cadena_sin_espacioes = clean_string(cadena)\n",
    "    # texto_cifrado = cifrar_cesar(cadena_sin_espacioes, numero_clave)\n",
    "    # print(f\"Cadena '{cadena}', sin espacios '{cadena_sin_espacioes}', con clave '{numero_clave}', se cifra como: '{texto_cifrado}'\")\n",
    "    cleaned_str = clean_string(contenido)\n",
    "    chars_freqs = fc.characters_frequency(cleaned_str)\n",
    "    probabilities = fc.calculate_probabilities(chars_freqs)\n",
    "    actual_probs, theoretical_probs = fc.compare_with_theoretical(probabilities)\n",
    "    print(\"Distribucion de probabilidades\")\n",
    "    for char, prob in actual_probs.items():\n",
    "        print(f\"'{char}': {prob:.4f}\")\n",
    "    fc.plot_comparison(actual_probs, theoretical_probs)\n",
    "    # print(contenido.count(\"j\"))\n",
    "    \n",
    "    # for i in range(31):\n",
    "    #     texto_descifrado = descifrar_cesar(contenido, i)    \n",
    "    #     print(\n",
    "    #         f\"Clave '{i}', resulta en '{texto_descifrado}'\"\n",
    "    #         )\n"
   ]
  },
  {
   "cell_type": "code",
   "execution_count": 3,
   "id": "2cfdf750-a951-462f-8177-905a206ea70d",
   "metadata": {},
   "outputs": [],
   "source": [
    "def cifrar_cesar(cadena: str, numero_clave: int):\n",
    "    \"\"\"\n",
    "    Cifra una cadena utilizando el cifrado César.\n",
    "\n",
    "    Args:\n",
    "        cadena (str): La cadena de texto a cifrar.\n",
    "        numero_clave (int): La clave numérica para el cifrado (desplazamiento).\n",
    "\n",
    "    Returns:\n",
    "        str: El texto cifrado.\n",
    "    \"\"\"\n",
    "    texto_cifrado = \"\"\n",
    "    # Cifrado de caracter por caracter\n",
    "    for letra in cadena:\n",
    "        # Posicion donde se encuentra la letra, suma de la posicion de la misma con la clave\n",
    "        suma = letras.find(letra) + numero_clave\n",
    "        # aplicar modulo, segun la cantidad de elementos del alfabeto\n",
    "        modulo = int(suma) % len(letras)\n",
    "        # el letras[modulo] es la posicion de la letra que sirve para cifrar\n",
    "        texto_cifrado = texto_cifrado + str(letras[modulo])\n",
    "    return texto_cifrado\n"
   ]
  },
  {
   "cell_type": "code",
   "execution_count": 4,
   "id": "f5083bed-45ae-4c9a-92c6-0e2413b57595",
   "metadata": {},
   "outputs": [],
   "source": [
    "def descifrar_cesar(cadena: str, numero_clave:int):\n",
    "    \"\"\"\n",
    "    Descifra una cadena cifrada utilizando el cifrado César.\n",
    "\n",
    "    Args:\n",
    "        cadena (str): La cadena de texto cifrado.\n",
    "        numero_clave (int):  La clave numérica para el descifrado (desplazamiento).\n",
    "\n",
    "    Returns:\n",
    "        str: El texto descifrado.\n",
    "    \"\"\"\n",
    "    texto_descifrado = \"\"\n",
    "    # Cifrado de caracter por caracter\n",
    "    for letra in cadena:\n",
    "        # Posicion donde se encuentra la letra, suma de la posicion de la misma con la clave.\n",
    "        suma = letras.find(letra) - numero_clave\n",
    "        # aplicar modulo, segun la cantidad de elementos del alfabeto\n",
    "        modulo = int(suma) % len(letras)\n",
    "        # el letras[modulo] es la posicion de la letra que sirve para cifrar\n",
    "        texto_descifrado = texto_descifrado + str(letras[modulo])\n",
    "    return texto_descifrado\n"
   ]
  },
  {
   "cell_type": "code",
   "execution_count": 5,
   "id": "598d7c4d-61d6-4120-b96f-06e0089214ac",
   "metadata": {},
   "outputs": [
    {
     "name": "stdout",
     "output_type": "stream",
     "text": [
      "Contenido del archivo:\n",
      "jjqaopñlhwxañejplzecepwhajyljopwjpaarlhqyeljhwwcehezwzyñemplcñwbeywyñemplwcehezwzmwñwwxñarewñaoqjiaywjeoilzazabajowyñqyewhloxñejzwhwywmwyezwzzailzebeywññwmezwiajpaahqolzawhclñepilouyhwraoyñemplcñwbeyloqjwwyyeljjayaowñewmwñwwjpeyemwñjlowhwobqpqñwowiajwvwozayexañoacqñezwz\n",
      "Distribucion de probabilidades\n",
      "'h': 0.0444\n",
      "'r': 0.0111\n",
      "'o': 0.0593\n",
      "'f': 0.0000\n",
      "'u': 0.0037\n",
      "'i': 0.0222\n",
      "'v': 0.0037\n",
      "'w': 0.1593\n",
      "'t': 0.0000\n",
      "'x': 0.0148\n",
      "'s': 0.0000\n",
      "'d': 0.0000\n",
      "'g': 0.0000\n",
      "'c': 0.0259\n",
      "'l': 0.0630\n",
      "'z': 0.0630\n",
      "'a': 0.0852\n",
      "'b': 0.0185\n",
      "'e': 0.1037\n",
      "'p': 0.0444\n",
      "'y': 0.0704\n",
      "'q': 0.0333\n",
      "'ñ': 0.0778\n",
      "'k': 0.0000\n",
      "'j': 0.0667\n",
      "'m': 0.0296\n",
      "'n': 0.0000\n"
     ]
    },
    {
     "data": {
      "image/png": "[encoded data removed]",
      "text/plain": [
       "<Figure size 1200x600 with 1 Axes>"
      ]
     },
     "metadata": {},
     "output_type": "display_data"
    },
    {
     "name": "stdout",
     "output_type": "stream",
     "text": [
      "18\n",
      "9\n"
     ]
    }
   ],
   "source": [
    "# Ruta del archivo\n",
    "ruta_archivo = \"./Cifrados/ceasar.txt\"\n",
    "contenido = \"\"\n",
    "# Leer el archivo y procesar su contenido\n",
    "try:\n",
    "    with open(ruta_archivo, \"r\", encoding=\"utf-8\") as file:\n",
    "        contenido = file.read()  # Leer el contenido del archivo\n",
    "        print(\"Contenido del archivo:\")\n",
    "        print(contenido)  # Mostrar contenido\n",
    "except FileNotFoundError:\n",
    "    print(f\"El archivo '{ruta_archivo}' no fue encontrado.\")\n",
    "except Exception as e:\n",
    "    print(f\"Ocurrió un error al leer el archivo: {e}\")\n",
    "main(contenido)\n"
   ]
  }
 ],
 "metadata": {
  "kernelspec": {
   "display_name": "Python 3 (ipykernel)",
   "language": "python",
   "name": "python3"
  },
  "language_info": {
   "codemirror_mode": {
    "name": "ipython",
    "version": 3
   },
   "file_extension": ".py",
   "mimetype": "text/x-python",
   "name": "python",
   "nbconvert_exporter": "python",
   "pygments_lexer": "ipython3",
   "version": "3.12.3"
  }
 },
 "nbformat": 4,
 "nbformat_minor": 5
}
