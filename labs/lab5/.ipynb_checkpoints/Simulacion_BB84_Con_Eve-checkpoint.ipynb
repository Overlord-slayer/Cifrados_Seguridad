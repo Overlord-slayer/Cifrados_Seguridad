{
 "cells": [
  {
   "cell_type": "markdown",
   "id": "57a01567",
   "metadata": {},
   "source": [
    "# Simulación del Protocolo BB84\n",
    "Esta notebook simula el protocolo BB84 entre Alice y Bob, incluyendo la opción de un espía (Eve)."
   ]
  },
  {
   "cell_type": "code",
   "execution_count": null,
   "id": "05a995c9",
   "metadata": {},
   "outputs": [],
   "source": [
    "import pandas as pd\n",
    "import random"
   ]
  },
  {
   "cell_type": "code",
   "execution_count": null,
   "id": "0eb8a9cf",
   "metadata": {},
   "outputs": [],
   "source": [
    "def random_base():\n",
    "    \"\"\"Simula una base cuántica aleatoria: ↕ o ↗\"\"\"\n",
    "    return random.choice([\"↕\", \"↗\"])\n",
    "\n",
    "def simulate_bb84_rounds(n=15, include_eve=False):\n",
    "    \"\"\"\n",
    "    Simula el protocolo BB84 entre Alice y Bob (opcionalmente con Eve como atacante).\n",
    "    @param n: Número de rondas.\n",
    "    @param include_eve: Si True, Eve intercepta la transmisión antes de Bob.\n",
    "    @return: DataFrame con resultados.\n",
    "    \"\"\"\n",
    "    data = []\n",
    "    for i in range(1, n + 1):\n",
    "        bit_alice = random.randint(0, 1)\n",
    "        base_alice = random_base()\n",
    "        photon = bit_alice\n",
    "        eve_base = random_base() if include_eve else None\n",
    "\n",
    "        if include_eve and eve_base != base_alice:\n",
    "            photon = random.randint(0, 1)\n",
    "\n",
    "        base_bob = random_base()\n",
    "        if base_bob == base_alice:\n",
    "            bit_bob = photon\n",
    "            match = \"sí\"\n",
    "            use = \"sí\"\n",
    "        else:\n",
    "            bit_bob = random.randint(0, 1)\n",
    "            match = \"no\"\n",
    "            use = \"no\"\n",
    "\n",
    "        data.append({\n",
    "            \"N°\": i,\n",
    "            \"Bit de Alice\": bit_alice,\n",
    "            \"Base de Alice\": base_alice,\n",
    "            \"Base de Eve\": eve_base if include_eve else \"-\",\n",
    "            \"Base de Bob\": base_bob,\n",
    "            \"Bit recibido por Bob\": bit_bob,\n",
    "            \"¿Bases coinciden?\": match,\n",
    "            \"¿Usar bit?\": use\n",
    "        })\n",
    "\n",
    "    df = pd.DataFrame(data)\n",
    "    usable_bits = len(df[df[\"¿Usar bit?\"] == \"sí\"])\n",
    "    percentage = round((usable_bits / n) * 100, 2)\n",
    "    print(f\"Bits usados para la clave: {usable_bits} / {n} ({percentage}%)\")\n",
    "    return df"
   ]
  },
  {
   "cell_type": "code",
   "execution_count": null,
   "id": "209aa141",
   "metadata": {},
   "outputs": [],
   "source": [
    "# Ejecutar simulación con Eve\n",
    "df_bb84 = simulate_bb84_rounds(n=15, include_eve=True)\n",
    "df_bb84"
   ]
  }
 ],
 "metadata": {},
 "nbformat": 4,
 "nbformat_minor": 5
}
